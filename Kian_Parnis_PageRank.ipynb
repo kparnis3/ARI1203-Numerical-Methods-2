{
 "cells": [
  {
   "cell_type": "code",
   "execution_count": 4,
   "metadata": {},
   "outputs": [
    {
     "name": "stdout",
     "output_type": "stream",
     "text": [
      "Link matrix L:\n",
      "[[0.         0.         0.33333333 0.         0.        ]\n",
      " [0.33333333 0.         0.33333333 0.5        0.        ]\n",
      " [0.         0.         0.         0.5        1.        ]\n",
      " [0.33333333 0.         0.33333333 0.         0.        ]\n",
      " [0.33333333 1.         0.         0.         0.        ]]\n",
      "\n"
     ]
    }
   ],
   "source": [
    "import numpy as np\n",
    "import random\n",
    "from numpy import linalg as la\n",
    "\n",
    "\n",
    "#part1a\n",
    "print(\"Link matrix L:\")\n",
    "m = np.array([[0,0,1/3,0,0],[1/3,0,1/3,1/2,0],[0,0,0,1/2,1],[1/3,0,1/3,0,0],[1/3,1,0,0,0]])\n",
    "print(m)\n",
    "print('')"
   ]
  },
  {
   "cell_type": "code",
   "execution_count": 5,
   "metadata": {},
   "outputs": [
    {
     "name": "stdout",
     "output_type": "stream",
     "text": [
      "Percentage numbers of surfers: \n",
      "[10.34482759 20.68965517 31.03448276 13.79310345 24.13793103]\n",
      "\n"
     ]
    }
   ],
   "source": [
    "#part1b\n",
    "eigvals, eigvecs = la.eig(m)\n",
    "order_eigval = np.absolute(eigvals).argsort()[::-1]\n",
    "eigvals = eigvals[order_eigval]\n",
    "eigvecs = eigvecs[:, order_eigval]\n",
    "r = eigvecs[:,0] # r = principle eigenvector\n",
    "\n",
    "print('Percentage numbers of surfers: ')\n",
    "print(100*np.real(r/np.sum(r)))\n",
    "print('')"
   ]
  },
  {
   "cell_type": "code",
   "execution_count": 7,
   "metadata": {},
   "outputs": [
    {
     "name": "stdout",
     "output_type": "stream",
     "text": [
      "Initial vector r: \n",
      "[0.2 0.2 0.2 0.2 0.2]\n",
      "\n"
     ]
    }
   ],
   "source": [
    "#part 2a\n",
    "r = np.array([1/5,1/5,1/5,1/5,1/5])\n",
    "print('Initial vector r: ')\n",
    "print(r)\n",
    "\n",
    "print('')"
   ]
  },
  {
   "cell_type": "code",
   "execution_count": 8,
   "metadata": {},
   "outputs": [
    {
     "name": "stdout",
     "output_type": "stream",
     "text": [
      "Number of iterations: 2\n",
      "[10.         18.88888889 33.33333333 12.22222222 25.55555556]\n",
      "\n"
     ]
    }
   ],
   "source": [
    "#part 2b\n",
    "def multiply_matrices(p,q):\n",
    "    return np.matmul(p,q)\n",
    "\n",
    "def percentage(M,R):  #used in 3b, 4b\n",
    "    norm = 0\n",
    "    pre_norm = 9999\n",
    "    iteration = 0\n",
    "    while ((abs(pre_norm-norm) > 0.005)):\n",
    "        R = multiply_matrices(M, R)\n",
    "        if (iteration == 0):\n",
    "            norm = la.norm(R)\n",
    "        else:\n",
    "            pre_norm = norm\n",
    "            norm = la.norm(R)\n",
    "\n",
    "        iteration += 1\n",
    "\n",
    "    print(\"Number of iterations:\", iteration)\n",
    "    R = (R*100)\n",
    "\n",
    "    return R\n",
    "\n",
    "print(percentage(m,r))\n",
    "print('')"
   ]
  },
  {
   "cell_type": "code",
   "execution_count": 9,
   "metadata": {},
   "outputs": [
    {
     "name": "stdout",
     "output_type": "stream",
     "text": [
      "Matrix M:\n",
      "[[0.08333333 0.08333333 0.25       0.08333333 0.08333333 0.08333333]\n",
      " [0.25       0.08333333 0.25       0.33333333 0.08333333 0.08333333]\n",
      " [0.08333333 0.08333333 0.08333333 0.33333333 0.58333333 0.08333333]\n",
      " [0.25       0.08333333 0.25       0.08333333 0.08333333 0.08333333]\n",
      " [0.25       0.58333333 0.08333333 0.08333333 0.08333333 0.08333333]\n",
      " [0.08333333 0.08333333 0.08333333 0.08333333 0.08333333 0.58333333]]\n",
      "\n"
     ]
    }
   ],
   "source": [
    "#Part 3a\n",
    "n= 6\n",
    "J = np.ones((n,n))\n",
    "d = 0.5\n",
    "L = np.array([[0,0,1/3,0,0,0],[1/3,0,1/3,1/2,0,0],[0,0,0,1/2,1,0],[1/3,0,1/3,0,0,0],[1/3,1,0,0,0,0],[0,0,0,0,0,1]])\n",
    "M = (d*L)+(((1-d)/n)*J)\n",
    "print('Matrix M:')\n",
    "print(M)\n",
    "print('')"
   ]
  },
  {
   "cell_type": "code",
   "execution_count": 10,
   "metadata": {},
   "outputs": [
    {
     "name": "stdout",
     "output_type": "stream",
     "text": [
      "Number of iterations: 2\n",
      "[11.80555556 17.12962963 21.52777778 13.65740741 19.21296296 16.66666667]\n",
      "\n"
     ]
    }
   ],
   "source": [
    "#part 3b\n",
    "r_2 = np.array([1/6,1/6,1/6,1/6,1/6,1/6])\n",
    "print(percentage(M,r_2))\n",
    "print('')"
   ]
  },
  {
   "cell_type": "code",
   "execution_count": 11,
   "metadata": {},
   "outputs": [
    {
     "name": "stdout",
     "output_type": "stream",
     "text": [
      "Enter value n for n*n matrix\n",
      "5\n",
      "[[0.33333333 0.25       0.33333333 0.         0.25      ]\n",
      " [0.         0.         0.33333333 0.33333333 0.        ]\n",
      " [0.         0.25       0.         0.33333333 0.25      ]\n",
      " [0.33333333 0.25       0.         0.33333333 0.25      ]\n",
      " [0.33333333 0.25       0.33333333 0.         0.25      ]]\n"
     ]
    }
   ],
   "source": [
    "#Part 4a\n",
    "def generate_network(N):\n",
    "  o = np.zeros((N, N), dtype=float)\n",
    "\n",
    "  for x in range(0,N):\n",
    "      for y in range(0,N):\n",
    "        o[x][y] = random.randint(0,1)\n",
    "\n",
    "  trans = np.transpose(o)\n",
    "\n",
    "  for x in range(0,N):\n",
    "      amount=0\n",
    "      for y in range(0,N):\n",
    "          if (trans[x][y] == 1):\n",
    "              amount+=1\n",
    "      for t in range(0, N):\n",
    "          if (trans[x][t] == 1):\n",
    "              trans[x][t] /= amount\n",
    "  trans = np.transpose(trans)\n",
    "  print(trans)\n",
    "\n",
    "  return trans\n",
    "\n",
    "n = int(input(\"Enter value n for n*n matrix\\n\"))\n",
    "ranlink = generate_network(n)"
   ]
  },
  {
   "cell_type": "code",
   "execution_count": 12,
   "metadata": {},
   "outputs": [
    {
     "name": "stdout",
     "output_type": "stream",
     "text": [
      "Enter damping factor d\n",
      "0.5\n",
      "[[0.26666667 0.225      0.26666667 0.1        0.225     ]\n",
      " [0.1        0.1        0.26666667 0.26666667 0.1       ]\n",
      " [0.1        0.225      0.1        0.26666667 0.225     ]\n",
      " [0.26666667 0.225      0.1        0.26666667 0.225     ]\n",
      " [0.26666667 0.225      0.26666667 0.1        0.225     ]]\n",
      "Number of iterations: 2\n",
      "[21.45833333 16.66666667 18.40277778 22.01388889 21.45833333]\n"
     ]
    }
   ],
   "source": [
    "#Part 4b\n",
    "d = float(input(\"Enter damping factor d\\n\"))\n",
    "\n",
    "def page_rank(X,d,n):\n",
    "\n",
    "   J_2 = np.ones((n,n))\n",
    "   M_2 = (d*X)+(((1-d)/n)*J_2)\n",
    "   print(M_2)\n",
    "   r3 = []\n",
    "   for i in range(n):\n",
    "       r3.append(1/n)\n",
    "\n",
    "   p = percentage(M_2, r3)\n",
    "\n",
    "   return p\n",
    "\n",
    "\n",
    "print(page_rank(ranlink,d,n))"
   ]
  },
  {
   "cell_type": "code",
   "execution_count": null,
   "metadata": {},
   "outputs": [],
   "source": []
  }
 ],
 "metadata": {
  "kernelspec": {
   "display_name": "Python 3",
   "language": "python",
   "name": "python3"
  },
  "language_info": {
   "codemirror_mode": {
    "name": "ipython",
    "version": 3
   },
   "file_extension": ".py",
   "mimetype": "text/x-python",
   "name": "python",
   "nbconvert_exporter": "python",
   "pygments_lexer": "ipython3",
   "version": "3.8.3"
  }
 },
 "nbformat": 4,
 "nbformat_minor": 4
}
