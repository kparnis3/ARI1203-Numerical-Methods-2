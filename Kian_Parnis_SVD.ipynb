{
 "cells": [
  {
   "cell_type": "code",
   "execution_count": 2,
   "metadata": {},
   "outputs": [
    {
     "name": "stdout",
     "output_type": "stream",
     "text": [
      "gsFull with values between 0 and 1: \n",
      "[[0.61960784 0.59607843 0.54509804 ... 0.68235294 0.69411765 0.68627451]\n",
      " [0.58431373 0.56470588 0.52941176 ... 0.74117647 0.75294118 0.74117647]\n",
      " [0.61176471 0.59215686 0.56470588 ... 0.7254902  0.73333333 0.7254902 ]\n",
      " ...\n",
      " [0.62745098 0.65098039 0.66666667 ... 0.30980392 0.30588235 0.3372549 ]\n",
      " [0.67843137 0.68627451 0.68235294 ... 0.25098039 0.22745098 0.20392157]\n",
      " [0.65882353 0.68235294 0.69803922 ... 0.30196078 0.27843137 0.22745098]]\n"
     ]
    }
   ],
   "source": [
    "import numpy as np\n",
    "from numpy import asarray\n",
    "from PIL import Image\n",
    "\n",
    "#Part 1a.\n",
    "myFILE = \"image1.jpg\"\n",
    "img = Image.open(myFILE)\n",
    "\n",
    "gsFull = np.array((img).convert('L')) / 255\n",
    "print(\"gsFull with values between 0 and 1: \")\n",
    "print(gsFull)"
   ]
  },
  {
   "cell_type": "code",
   "execution_count": 3,
   "metadata": {},
   "outputs": [
    {
     "name": "stdout",
     "output_type": "stream",
     "text": [
      "Shape of U: (1024, 1024)\n",
      "Shape of s: (908,)\n",
      "Shape of V: (908, 908)\n",
      "New shape for s: (1024, 908)\n"
     ]
    }
   ],
   "source": [
    "#Part 1b.\n",
    "U, s, V = np.linalg.svd(gsFull)\n",
    "\n",
    "gr_im = asarray(gsFull)\n",
    "print(\"Shape of U:\",U.shape)\n",
    "print(\"Shape of s:\",s.shape)\n",
    "print(\"Shape of V:\",V.shape)\n",
    "\n",
    "b = np.diag(s.ravel()) #create a matrix with s in the diagonals\n",
    "\n",
    "width, height = img.size\n",
    "c = np.zeros((height-width, 908)) #Used to add rows of zeros to s for\n",
    "\n",
    "result = np.vstack((b,c))\n",
    "print(\"New shape for s:\",result.shape)"
   ]
  },
  {
   "cell_type": "code",
   "execution_count": 4,
   "metadata": {
    "scrolled": true
   },
   "outputs": [
    {
     "name": "stdout",
     "output_type": "stream",
     "text": [
      "Is the image reconstructed correctly?\n",
      "True\n"
     ]
    }
   ],
   "source": [
    "#Part 1c\n",
    "Reconstructed = U @ result @ V\n",
    "print(\"Is the image reconstructed correctly?\")\n",
    "print(np.allclose(gsFull,Reconstructed))\n",
    "\n",
    "Image.fromarray(Reconstructed * 255).show()"
   ]
  },
  {
   "cell_type": "code",
   "execution_count": 5,
   "metadata": {},
   "outputs": [
    {
     "name": "stdout",
     "output_type": "stream",
     "text": [
      "Shapes of the approx matrices: \n",
      "(1024, 20)\n",
      "(20, 20)\n",
      "(20, 908)\n"
     ]
    }
   ],
   "source": [
    "#Part 2a\n",
    "\n",
    "Rank = 20\n",
    "print(\"Shapes of the approx matrices: \")\n",
    "u = np.array(U[:, :Rank]) #Take the height of the original matrix and a width of Rank\n",
    "print(u.shape)\n",
    "\n",
    "S = result[:Rank,:Rank]  #Take the height and width of the diagonal Rank\n",
    "print(S.shape)\n",
    "\n",
    "v = np.array(V[:Rank,:]) #Take the width of rank and height of original\n",
    "print(v.shape)\n",
    "\n",
    "Approx = u @ S @ v\n",
    "Image.fromarray(Approx * 255).show()\n"
   ]
  },
  {
   "cell_type": "code",
   "execution_count": 6,
   "metadata": {},
   "outputs": [
    {
     "name": "stdout",
     "output_type": "stream",
     "text": [
      "Difference: 50.98851882547021\n"
     ]
    }
   ],
   "source": [
    "#Part 2b\n",
    "\n",
    "diff = gsFull - Approx\n",
    "diff = np.linalg.norm(diff)\n",
    "print(\"Difference:\",diff)\n"
   ]
  },
  {
   "cell_type": "code",
   "execution_count": 7,
   "metadata": {},
   "outputs": [
    {
     "name": "stdout",
     "output_type": "stream",
     "text": [
      "Elements required: 4.198788546255507 %\n"
     ]
    }
   ],
   "source": [
    "#Part 2c\n",
    "\n",
    "Elements_inU = height * Rank\n",
    "Elements_inS = Rank * Rank\n",
    "Elements_inV = width * Rank\n",
    "\n",
    "Perc = ((Elements_inU + Elements_inS + Elements_inV) / (height * width)) * 100\n",
    "print(\"Elements required:\", Perc, '%')\n"
   ]
  },
  {
   "cell_type": "code",
   "execution_count": 8,
   "metadata": {},
   "outputs": [
    {
     "name": "stdout",
     "output_type": "stream",
     "text": [
      "931706\n",
      "929792\n",
      "At rank: 483\n"
     ]
    }
   ],
   "source": [
    "#Part 2d\n",
    "\n",
    "Total_O = height * width\n",
    "Total_A = 0\n",
    "R = 0\n",
    "\n",
    "while Total_O > Total_A:\n",
    " Elements_inU = height * R\n",
    " Elements_inS = R\n",
    " Elements_inV = width * R\n",
    " Total_A = Elements_inU + Elements_inS + Elements_inV\n",
    " R+=1\n",
    "\n",
    "print(Total_A)\n",
    "print(Total_O)\n",
    "print(\"At rank:\", R)\n"
   ]
  },
  {
   "cell_type": "code",
   "execution_count": 9,
   "metadata": {},
   "outputs": [
    {
     "name": "stdout",
     "output_type": "stream",
     "text": [
      "Input the rank: 20\n",
      "Input file name (ex: image1.jpg): attack.jpg\n",
      "Difference: 124.99972001074124\n",
      "Elements required: 3.5000000000000004 %\n"
     ]
    }
   ],
   "source": [
    "#Part 3\n",
    "\n",
    "Rnk = input(\"Input the rank: \")\n",
    "Rnk = int(Rnk)\n",
    "myFile_2 = input(\"Input file name (ex: image1.jpg): \")\n",
    "\n",
    "Imge = Image.open(myFile_2)\n",
    "gsFull_2 = np.array((Imge).convert('L')) / 255\n",
    "\n",
    "def approx_im(RANK, GSFULL):\n",
    "  width, height = gsFull_2.shape\n",
    "  U_2, s_2, V_2 = np.linalg.svd(GSFULL)\n",
    "  if(width > height):\n",
    "      b = np.diag(s_2.ravel())\n",
    "      c = np.zeros((width-height, height))\n",
    "      result = np.vstack((b, c))\n",
    "      result = result.transpose()\n",
    "\n",
    "  else:\n",
    "   b = np.diag(s_2.ravel())  # create a matrix with s in the diagonals\n",
    "   c = np.zeros((height - width, width))\n",
    "   result = np.vstack((b, c))\n",
    "\n",
    "  u = np.array(U_2[:, :RANK])  # Take the height of the original matrix and a width of Rank\n",
    "  S = result[:RANK, :RANK]  # Take the height and width of the diagonal Rank\n",
    "  v = np.array(V_2[:RANK, :])  # Take the width of rank and height of original\n",
    "\n",
    "  Approx = u @ S @ v\n",
    "\n",
    "  diff_2 = GSFULL - Approx\n",
    "  diff_2 = np.linalg.norm(diff_2)\n",
    "\n",
    "  Elements_inU = height * RANK\n",
    "  Elements_inS = RANK * RANK\n",
    "  Elements_inV = width * RANK\n",
    "\n",
    "  Perc = ((Elements_inU + Elements_inS + Elements_inV) / (height * width)) * 100\n",
    "\n",
    "  return(Approx,diff_2,Perc)\n",
    "\n",
    "\n",
    "A, D, P = approx_im(Rnk,gsFull_2)\n",
    "print(\"Difference:\",D)\n",
    "print(\"Elements required:\",P, '%')\n",
    "Image.fromarray(A * 255).show()"
   ]
  },
  {
   "cell_type": "code",
   "execution_count": null,
   "metadata": {},
   "outputs": [],
   "source": []
  }
 ],
 "metadata": {
  "kernelspec": {
   "display_name": "Python 3",
   "language": "python",
   "name": "python3"
  },
  "language_info": {
   "codemirror_mode": {
    "name": "ipython",
    "version": 3
   },
   "file_extension": ".py",
   "mimetype": "text/x-python",
   "name": "python",
   "nbconvert_exporter": "python",
   "pygments_lexer": "ipython3",
   "version": "3.8.3"
  }
 },
 "nbformat": 4,
 "nbformat_minor": 4
}
